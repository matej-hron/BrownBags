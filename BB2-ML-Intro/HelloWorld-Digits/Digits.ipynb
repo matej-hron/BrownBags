{
 "cells": [
  {
   "cell_type": "code",
   "execution_count": 23,
   "metadata": {},
   "outputs": [],
   "source": [
    "from keras import models \n",
    "from keras import layers \n",
    "\n",
    "from keras.datasets import mnist\n",
    "(train_images, train_labels), (test_images, test_labels) = mnist.load_data() "
   ]
  },
  {
   "cell_type": "code",
   "execution_count": 12,
   "metadata": {},
   "outputs": [
    {
     "data": {
      "text/plain": [
       "0"
      ]
     },
     "execution_count": 12,
     "metadata": {},
     "output_type": "execute_result"
    }
   ],
   "source": [
    "train_labels[1]"
   ]
  },
  {
   "cell_type": "code",
   "execution_count": 13,
   "metadata": {
    "collapsed": true
   },
   "outputs": [],
   "source": [
    "network = models.Sequential() \n",
    "network.add(layers.Dense(512, activation='relu', input_shape=(28 * 28,))) \n",
    "network.add(layers.Dense(10, activation='softmax'))\n",
    " \n",
    "network.compile(optimizer='rmsprop',\n",
    "                loss='categorical_crossentropy',\n",
    "                metrics=['accuracy']) "
   ]
  },
  {
   "cell_type": "code",
   "execution_count": 14,
   "metadata": {
    "collapsed": true
   },
   "outputs": [],
   "source": [
    "train_images = train_images.reshape((60000, 28 * 28)) \n",
    "train_images = train_images.astype('float32') / 255\n",
    "test_images = test_images.reshape((10000, 28 * 28)) \n",
    "test_images = test_images.astype('float32') / 255 "
   ]
  },
  {
   "cell_type": "code",
   "execution_count": 15,
   "metadata": {
    "collapsed": true
   },
   "outputs": [],
   "source": [
    "from keras.utils import to_categorical\n",
    "train_labels = to_categorical(train_labels) \n",
    "test_labels = to_categorical(test_labels) "
   ]
  },
  {
   "cell_type": "code",
   "execution_count": 17,
   "metadata": {},
   "outputs": [
    {
     "name": "stdout",
     "output_type": "stream",
     "text": [
      "Epoch 1/5\n",
      "60000/60000 [==============================] - 4s - loss: 0.2505 - acc: 0.9276     \n",
      "Epoch 2/5\n",
      "60000/60000 [==============================] - 3s - loss: 0.1018 - acc: 0.9698     \n",
      "Epoch 3/5\n",
      "60000/60000 [==============================] - 3s - loss: 0.0681 - acc: 0.9796     \n",
      "Epoch 4/5\n",
      "60000/60000 [==============================] - 3s - loss: 0.0494 - acc: 0.9853     \n",
      "Epoch 5/5\n",
      "60000/60000 [==============================] - 3s - loss: 0.0373 - acc: 0.9884     \n"
     ]
    },
    {
     "data": {
      "text/plain": [
       "<keras.callbacks.History at 0x1bb17a79a20>"
      ]
     },
     "execution_count": 17,
     "metadata": {},
     "output_type": "execute_result"
    }
   ],
   "source": [
    "network.fit(train_images, train_labels, epochs=5, batch_size=128) "
   ]
  },
  {
   "cell_type": "code",
   "execution_count": 18,
   "metadata": {},
   "outputs": [
    {
     "name": "stdout",
     "output_type": "stream",
     "text": [
      " 8864/10000 [=========================>....] - ETA: 0stest_acc: 0.9795\n"
     ]
    }
   ],
   "source": [
    "test_loss, test_acc = network.evaluate(test_images, test_labels) \n",
    "print('test_acc:', test_acc)  "
   ]
  },
  {
   "cell_type": "code",
   "execution_count": 22,
   "metadata": {},
   "outputs": [
    {
     "data": {
      "image/png": "[encoded data removed]",
      "text/plain": [
       "<matplotlib.figure.Figure at 0x1bb13815f60>"
      ]
     },
     "metadata": {},
     "output_type": "display_data"
    },
    {
     "name": "stdout",
     "output_type": "stream",
     "text": [
      "(1, 784)\n"
     ]
    },
    {
     "data": {
      "text/plain": [
       "array([[  7.96644706e-09,   1.86134557e-08,   7.92002797e-01,\n",
       "          9.22283562e-06,   1.91364005e-01,   2.40110585e-05,\n",
       "          1.65793784e-02,   2.05578326e-05,   1.35751312e-08,\n",
       "          8.40915046e-11]], dtype=float32)"
      ]
     },
     "execution_count": 22,
     "metadata": {},
     "output_type": "execute_result"
    }
   ],
   "source": [
    "img_path = 'c:\\\\Users\\\\m.hron\\\\Source\\\\Repos\\\\BrownBags\\\\BB2-ML-Intro\\\\HelloWorld-Digits\\\\data\\\\4.jpg'\n",
    "from keras.preprocessing import image\n",
    "import numpy as np\n",
    "\n",
    "img = image.load_img(img_path, target_size=(28, 28), grayscale=True)\n",
    "\n",
    "digit = img\n",
    "import matplotlib.pyplot as pyplot \n",
    "pyplot.imshow(digit, cmap=pyplot.cm.binary) \n",
    "pyplot.show() \n",
    "\n",
    "img_tensor = image.img_to_array(img)\n",
    "img_tensor = img_tensor.reshape(28 * 28)\n",
    "img_tensor = np.expand_dims(img_tensor, axis=0)\n",
    "\n",
    "img_tensor /= 255.\n",
    "\n",
    "\n",
    "print(img_tensor.shape)\n",
    "network.predict(img_tensor)"
   ]
  },
  {
   "cell_type": "code",
   "execution_count": null,
   "metadata": {
    "collapsed": true
   },
   "outputs": [],
   "source": []
  }
 ],
 "metadata": {
  "kernelspec": {
   "display_name": "Python 3",
   "language": "python",
   "name": "python3"
  },
  "language_info": {
   "codemirror_mode": {
    "name": "ipython",
    "version": 3
   },
   "file_extension": ".py",
   "mimetype": "text/x-python",
   "name": "python",
   "nbconvert_exporter": "python",
   "pygments_lexer": "ipython3",
   "version": "3.6.1"
  }
 },
 "nbformat": 4,
 "nbformat_minor": 2
}
