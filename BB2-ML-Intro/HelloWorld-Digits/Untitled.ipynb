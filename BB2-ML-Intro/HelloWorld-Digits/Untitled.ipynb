{
 "cells": [
  {
   "cell_type": "markdown",
   "metadata": {
    "collapsed": true
   },
   "source": [
    "# BrownBag \n",
    "## Introduction to Deep Learning\n",
    "\n",
    "The presentation and examples were compiled pretty much based on [Francois Chollet's book Deep Learning With Python](https://www.manning.com/books/deep-learning-with-python) (which I would highly recommend)\n",
    "\n",
    "The session was dedicated to introduction to machine learning. We were speaking about techniques like Decision Trees and Random Forests (Dima’s part) and Deep Learning (Matej’s part). Session included real examples using [Jupyter Notebooks](http://jupyter.org/), Python and [Keras](https://keras.io/) with [Tensorflow](https://www.tensorflow.org/).\n",
    "\n",
    "If you want to try and play on your own and you need to install the environment on your machine then I recommend to follow [this tutorial](https://gettocode.com/2016/12/02/keras-on-theano-and-tensorflow-on-windows-and-linux/)."
   ]
  }
 ],
 "metadata": {
  "kernelspec": {
   "display_name": "Python 3",
   "language": "python",
   "name": "python3"
  },
  "language_info": {
   "codemirror_mode": {
    "name": "ipython",
    "version": 3
   },
   "file_extension": ".py",
   "mimetype": "text/x-python",
   "name": "python",
   "nbconvert_exporter": "python",
   "pygments_lexer": "ipython3",
   "version": "3.6.1"
  }
 },
 "nbformat": 4,
 "nbformat_minor": 2
}
